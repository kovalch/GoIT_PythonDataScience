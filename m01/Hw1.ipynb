{
 "cells": [
  {
   "cell_type": "code",
   "execution_count": 2,
   "id": "7ea92250",
   "metadata": {},
   "outputs": [
    {
     "name": "stdout",
     "output_type": "stream",
     "text": [
      "numpy version: 1.22.3\n"
     ]
    }
   ],
   "source": [
    "import numpy as np\n",
    "print(f\"numpy version: {np.__version__}\")"
   ]
  },
  {
   "cell_type": "markdown",
   "id": "7bc59d87",
   "metadata": {},
   "source": [
    "## Part 1"
   ]
  },
  {
   "cell_type": "markdown",
   "id": "c985e7f3",
   "metadata": {},
   "source": [
    "The depositor deposited 50,000 u.e. in three different accounts in three different banks. \n",
    "\n",
    "Payments per annum:  \n",
    "5% on the first account, \n",
    "7% on the second, \n",
    "and 6% on the third. \n",
    "\n",
    "It is known that in one year, the depositor received 2250 u.e. from the first and second banks \n",
    "\n",
    "and the sum of 1,400 u.e. from the first and third banks. \n",
    "\n",
    "How many u.e. did he put on each account initially?\n",
    "\n",
    "\n",
    "So we got system of tree equesions:\n",
    "x1 + x2 + x3 = 50000\n",
    "0.5x1 + 0.7x2 + 0x3 = 2250\n",
    "0.5x1 + 0x2 + 0.6x3 = 1400\n"
   ]
  },
  {
   "cell_type": "code",
   "execution_count": 39,
   "id": "e4849d27",
   "metadata": {},
   "outputs": [
    {
     "data": {
      "text/plain": [
       "array([[1.  , 1.  , 1.  ],\n",
       "       [0.05, 0.07, 0.  ],\n",
       "       [0.05, 0.  , 0.06]], dtype=float32)"
      ]
     },
     "execution_count": 39,
     "metadata": {},
     "output_type": "execute_result"
    }
   ],
   "source": [
    "f_matrix = np.array([[1, 1, 1], [0.05, 0.07, 0], [0.05, 0, 0.06]], dtype=np.float32)\n",
    "f_matrix"
   ]
  },
  {
   "cell_type": "code",
   "execution_count": 40,
   "id": "078cd761",
   "metadata": {},
   "outputs": [
    {
     "data": {
      "text/plain": [
       "array([50000.,  2250.,  1400.], dtype=float32)"
      ]
     },
     "execution_count": 40,
     "metadata": {},
     "output_type": "execute_result"
    }
   ],
   "source": [
    "f_array = np.array([50000, 2250, 1400], dtype=np.float32)\n",
    "f_array"
   ]
  },
  {
   "cell_type": "markdown",
   "id": "f10caf7e",
   "metadata": {},
   "source": [
    "### Solutions"
   ]
  },
  {
   "cell_type": "code",
   "execution_count": 41,
   "id": "8b684c22",
   "metadata": {},
   "outputs": [
    {
     "data": {
      "text/plain": [
       "array([[ -1.8260869,  26.086954 ,  30.434782 ],\n",
       "       [  1.3043478,  -4.347825 , -21.73913  ],\n",
       "       [  1.5217391, -21.73913  ,  -8.695651 ]], dtype=float32)"
      ]
     },
     "execution_count": 41,
     "metadata": {},
     "output_type": "execute_result"
    }
   ],
   "source": [
    "# Get inverse of a matrix\n",
    "f_matrix_inv = np.linalg.inv(f_matrix)\n",
    "f_matrix_inv"
   ]
  },
  {
   "cell_type": "code",
   "execution_count": 45,
   "id": "0c8d6079",
   "metadata": {},
   "outputs": [
    {
     "data": {
      "text/plain": [
       "-435"
      ]
     },
     "execution_count": 45,
     "metadata": {},
     "output_type": "execute_result"
    }
   ],
   "source": [
    "# 1st check if determinant of an inverse matrix is not equal 0\n",
    "det = round(np.linalg.det(f_matrix_inv))\n",
    "det"
   ]
  },
  {
   "cell_type": "code",
   "execution_count": 52,
   "id": "a41208e8",
   "metadata": {},
   "outputs": [
    {
     "data": {
      "text/plain": [
       "array([ 9999, 25000, 14999])"
      ]
     },
     "execution_count": 52,
     "metadata": {},
     "output_type": "execute_result"
    }
   ],
   "source": [
    "# get unswer via formula x = A^(-1)*B\n",
    "x = f_matrix_inv.dot(f_array)\n",
    "x.astype('int')"
   ]
  },
  {
   "cell_type": "code",
   "execution_count": 49,
   "id": "eb5b3ff1",
   "metadata": {},
   "outputs": [
    {
     "data": {
      "text/plain": [
       "array([10000., 25000., 15000.], dtype=float32)"
      ]
     },
     "execution_count": 49,
     "metadata": {},
     "output_type": "execute_result"
    }
   ],
   "source": [
    "# one can also get solution via np.linalg.solve  (system of linear scalar equations)\n",
    "x = np.linalg.solve(f_matrix, f_array)\n",
    "x"
   ]
  },
  {
   "cell_type": "markdown",
   "id": "f71ca6d4",
   "metadata": {},
   "source": [
    "The depositor placed: \n",
    "10,000 conditional u.e. on the first account, \n",
    "25,000 conditional u.e. on the second account, \n",
    "15,000 conditional u.e. on the third account. \n",
    "\n",
    "\n",
    "Checking the correctness of the answers: "
   ]
  },
  {
   "cell_type": "code",
   "execution_count": 53,
   "id": "72269d3b",
   "metadata": {},
   "outputs": [
    {
     "name": "stdout",
     "output_type": "stream",
     "text": [
      "50000.0\n"
     ]
    }
   ],
   "source": [
    "print(x.sum())"
   ]
  },
  {
   "cell_type": "code",
   "execution_count": 56,
   "id": "679da222",
   "metadata": {},
   "outputs": [
    {
     "name": "stdout",
     "output_type": "stream",
     "text": [
      "2250.0\n"
     ]
    }
   ],
   "source": [
    "print((x * f_matrix[1]).sum())"
   ]
  },
  {
   "cell_type": "code",
   "execution_count": 61,
   "id": "2f28de2a",
   "metadata": {},
   "outputs": [
    {
     "name": "stdout",
     "output_type": "stream",
     "text": [
      "1399.9999\n"
     ]
    }
   ],
   "source": [
    "print((x * f_matrix[2]).sum())"
   ]
  },
  {
   "cell_type": "code",
   "execution_count": 64,
   "id": "5bb13313",
   "metadata": {},
   "outputs": [
    {
     "data": {
      "text/plain": [
       "True"
      ]
     },
     "execution_count": 64,
     "metadata": {},
     "output_type": "execute_result"
    }
   ],
   "source": [
    "np.dot(f_matrix, x).all() == f_array.all()"
   ]
  },
  {
   "cell_type": "markdown",
   "id": "149f6438",
   "metadata": {},
   "source": [
    "# Part 2"
   ]
  },
  {
   "cell_type": "markdown",
   "id": "06c10809",
   "metadata": {},
   "source": [
    "iPhone 6, iPhone 11, iPhone 12 models are stored in the warehouse. \n",
    "\n",
    "A total of 1328 copies. \n",
    "\n",
    "iPhone 6 models are 120 fewer than iPhone 11 models, \n",
    "\n",
    "iPhone 6 models are 100 more than iPhone 12 models. \n",
    "\n",
    "How many models of each type are in stock?\n",
    "\n",
    "Similar to the problem above:\n",
    "\n",
    "x + y + z = 1328\n",
    "-x + y + 0z = 120\n",
    "x + 0y -z = 100"
   ]
  },
  {
   "cell_type": "code",
   "execution_count": 70,
   "id": "3c6e77fb",
   "metadata": {},
   "outputs": [
    {
     "data": {
      "text/plain": [
       "matrix([[ 1,  1,  1],\n",
       "        [-1,  1,  0],\n",
       "        [ 1,  0, -1]])"
      ]
     },
     "execution_count": 70,
     "metadata": {},
     "output_type": "execute_result"
    }
   ],
   "source": [
    "phone_matrix_a = np.matrix(\"1,1,1;-1,1,0;1,0,-1\")\n",
    "phone_matrix_a"
   ]
  },
  {
   "cell_type": "code",
   "execution_count": 71,
   "id": "600c4dc8",
   "metadata": {},
   "outputs": [
    {
     "data": {
      "text/plain": [
       "matrix([[1328],\n",
       "        [ 120],\n",
       "        [ 100]])"
      ]
     },
     "execution_count": 71,
     "metadata": {},
     "output_type": "execute_result"
    }
   ],
   "source": [
    "phone_matrix_b = np.matrix(\"1328;120;100\")\n",
    "phone_matrix_b"
   ]
  },
  {
   "cell_type": "code",
   "execution_count": 72,
   "id": "36dca929",
   "metadata": {},
   "outputs": [
    {
     "data": {
      "text/plain": [
       "matrix([[436.],\n",
       "        [556.],\n",
       "        [336.]])"
      ]
     },
     "execution_count": 72,
     "metadata": {},
     "output_type": "execute_result"
    }
   ],
   "source": [
    "# Get the numbers of each model \n",
    "phone_x = np.linalg.solve(phone_matrix_a, phone_matrix_b)\n",
    "phone_x "
   ]
  },
  {
   "cell_type": "markdown",
   "id": "c5d8489d",
   "metadata": {},
   "source": [
    "iPhone 6 - 436 pieces, \n",
    "\n",
    "iPhone 11 - 556 pieces, \n",
    "\n",
    "iPhone 12 models - 336 pieces are stored in the warehouse. \n",
    "\n",
    "Check the answer:"
   ]
  },
  {
   "cell_type": "code",
   "execution_count": 73,
   "id": "43f36c6b",
   "metadata": {},
   "outputs": [
    {
     "data": {
      "text/plain": [
       "True"
      ]
     },
     "execution_count": 73,
     "metadata": {},
     "output_type": "execute_result"
    }
   ],
   "source": [
    "np.dot(phone_matrix_a, phone_x).all() == phone_matrix_b.all()"
   ]
  },
  {
   "cell_type": "markdown",
   "id": "e1012292",
   "metadata": {},
   "source": [
    "# Part 3"
   ]
  },
  {
   "cell_type": "markdown",
   "id": "95e3aaf9",
   "metadata": {},
   "source": [
    "Write the canonical equation of the ellipsoid passing through three points A, B, C\n",
    "\n",
    "Coordinates: \n",
    "\n",
    "A(sqr(3); 0; sqr(3))\n",
    "B(sqr(6); 1/2; 0)\n",
    "C(1; 1/sqr(3);1)\n",
    "\n",
    "The canonical equation of an ellipsoid in a rectangular Cartesian coordinate system has the form:\n",
    "x^2/a^2 + y^2/b^2 + z^2/c^2 = 1\n",
    "\n",
    "Determining the parameters of a^2, b^2, c^2"
   ]
  },
  {
   "cell_type": "markdown",
   "id": "5262341c",
   "metadata": {},
   "source": [
    "Let's assume:\n",
    "\n",
    "a^-2 = X1\n",
    "b^-2 = X2\n",
    "c^-2 = X3\n",
    "\n",
    "We will get the system of equations:\n",
    "3X1 + 0X2 + 3X3 = 1\n",
    "6X1 + 1/4X2 + 0X3 = 1\n",
    "X1 + 1/3X2 + X3 = 1"
   ]
  },
  {
   "cell_type": "code",
   "execution_count": 78,
   "id": "d47029dd",
   "metadata": {},
   "outputs": [
    {
     "name": "stdout",
     "output_type": "stream",
     "text": [
      "[[3.         0.         3.        ]\n",
      " [6.         0.25       0.        ]\n",
      " [1.         0.33333334 1.        ]]\n"
     ]
    }
   ],
   "source": [
    "elipsoid_matrix = np.array([[3,0,3], [6,1/4,0],[1,1/3,1]], dtype=np.float32)\n",
    "print(elipsoid_matrix)\n",
    "elipsoid_array = np.array([1,1,1])"
   ]
  },
  {
   "cell_type": "code",
   "execution_count": 79,
   "id": "818dda8d",
   "metadata": {},
   "outputs": [
    {
     "data": {
      "text/plain": [
       "array([0.08333334, 1.99999994, 0.25      ])"
      ]
     },
     "execution_count": 79,
     "metadata": {},
     "output_type": "execute_result"
    }
   ],
   "source": [
    "elipsoid_x = np.linalg.solve(elipsoid_matrix, elipsoid_array)\n",
    "elipsoid_x"
   ]
  },
  {
   "cell_type": "code",
   "execution_count": 94,
   "id": "30808a07",
   "metadata": {},
   "outputs": [
    {
     "name": "stdout",
     "output_type": "stream",
     "text": [
      "Parameters: a2=12.0, b2=0.5, c2=4.0\n"
     ]
    }
   ],
   "source": [
    "# get parameters\n",
    "a2 = round(float(1/elipsoid_x[0]), 1)\n",
    "b2 = round(float(1/elipsoid_x[1]), 1)\n",
    "c2 = round(float(1/elipsoid_x[2]), 1)\n",
    "print(f'Parameters: a2={a2}, b2={b2}, c2={c2}')"
   ]
  },
  {
   "cell_type": "markdown",
   "id": "43b72a8b",
   "metadata": {},
   "source": [
    "Check the answers:"
   ]
  },
  {
   "cell_type": "code",
   "execution_count": 96,
   "id": "4045b0ef",
   "metadata": {},
   "outputs": [
    {
     "data": {
      "text/plain": [
       "True"
      ]
     },
     "execution_count": 96,
     "metadata": {},
     "output_type": "execute_result"
    }
   ],
   "source": [
    "# Check Coordinate A\n",
    "x = 3**0.5\n",
    "y=0\n",
    "z=3**0.5\n",
    "round(x**2/a2 + y**2/b2 + z**2/c2, 2) == 1"
   ]
  },
  {
   "cell_type": "code",
   "execution_count": 95,
   "id": "3b2a5856",
   "metadata": {},
   "outputs": [
    {
     "data": {
      "text/plain": [
       "True"
      ]
     },
     "execution_count": 95,
     "metadata": {},
     "output_type": "execute_result"
    }
   ],
   "source": [
    "# Check Coordinate B\n",
    "x = 6**0.5\n",
    "y=1/2\n",
    "z=0\n",
    "round(x**2/a2 + y**2/b2 + z**2/c2, 2) == 1"
   ]
  },
  {
   "cell_type": "code",
   "execution_count": 97,
   "id": "aa6d880b",
   "metadata": {},
   "outputs": [
    {
     "data": {
      "text/plain": [
       "True"
      ]
     },
     "execution_count": 97,
     "metadata": {},
     "output_type": "execute_result"
    }
   ],
   "source": [
    "# Check Coordinate C\n",
    "x = 1\n",
    "y=1/(3**0.5)\n",
    "z=1\n",
    "round(x**2/a2 + y**2/b2 + z**2/c2, 2) == 1"
   ]
  },
  {
   "cell_type": "markdown",
   "id": "269e3489",
   "metadata": {},
   "source": [
    "The canonical equation of an ellipsoid:\n",
    "x^2/12 + 2y^2 + z^2/4 = 1"
   ]
  },
  {
   "cell_type": "markdown",
   "id": "68752999",
   "metadata": {},
   "source": [
    "# Part 4"
   ]
  },
  {
   "cell_type": "markdown",
   "id": "68ad5f83",
   "metadata": {},
   "source": [
    "Write the parabola equation that passes through the three points (1,12), (3,54), (-1,2). \n",
    "\n",
    "Find the coefficients a,b,c of the equation:\n",
    "\n",
    "y=a⋅x^2+b⋅x+c\n",
    "\n",
    "\n",
    "Let us add the y and x values from the points to the equation:\n",
    "\n",
    "a + b + c = 12\n",
    "9a + 3b + c = 54\n",
    "a - b + c = 2"
   ]
  },
  {
   "cell_type": "code",
   "execution_count": 99,
   "id": "9e7fb161",
   "metadata": {},
   "outputs": [
    {
     "data": {
      "text/plain": [
       "array([[ 1.,  1.,  1.],\n",
       "       [ 9.,  3.,  1.],\n",
       "       [ 1., -1.,  1.]], dtype=float32)"
      ]
     },
     "execution_count": 99,
     "metadata": {},
     "output_type": "execute_result"
    }
   ],
   "source": [
    "parabola_matrix = np.array([[1,1,1],[9,3,1],[1,-1,1]], np.float32)\n",
    "parabola_matrix"
   ]
  },
  {
   "cell_type": "code",
   "execution_count": 100,
   "id": "28ee7224",
   "metadata": {},
   "outputs": [
    {
     "data": {
      "text/plain": [
       "array([12., 54.,  2.], dtype=float32)"
      ]
     },
     "execution_count": 100,
     "metadata": {},
     "output_type": "execute_result"
    }
   ],
   "source": [
    "parabola_array = np.array([12,54,2], np.float32)\n",
    "parabola_array"
   ]
  },
  {
   "cell_type": "code",
   "execution_count": 101,
   "id": "b4338843",
   "metadata": {},
   "outputs": [
    {
     "data": {
      "text/plain": [
       "array([4., 5., 3.], dtype=float32)"
      ]
     },
     "execution_count": 101,
     "metadata": {},
     "output_type": "execute_result"
    }
   ],
   "source": [
    "parabola_x = np.linalg.solve(parabola_matrix, parabola_array)\n",
    "parabola_x"
   ]
  },
  {
   "cell_type": "code",
   "execution_count": 105,
   "id": "29a54e93",
   "metadata": {},
   "outputs": [
    {
     "name": "stdout",
     "output_type": "stream",
     "text": [
      "Coefficients a=4, b=5, c=3\n"
     ]
    }
   ],
   "source": [
    "print(f'Coefficients a={int(parabola_x[0])}, b={int(parabola_x[1])}, c={int(parabola_x[2])}')"
   ]
  },
  {
   "cell_type": "markdown",
   "id": "4fb959d3",
   "metadata": {},
   "source": [
    "The parabola equation: y = 4x^2 + 5x + 3"
   ]
  },
  {
   "cell_type": "code",
   "execution_count": 107,
   "id": "bf715082",
   "metadata": {},
   "outputs": [
    {
     "data": {
      "text/plain": [
       "True"
      ]
     },
     "execution_count": 107,
     "metadata": {},
     "output_type": "execute_result"
    }
   ],
   "source": [
    "#Check the answer:\n",
    "np.dot(parabola_matrix, parabola_x).all() == parabola_array.all()"
   ]
  },
  {
   "cell_type": "markdown",
   "id": "7ea75861",
   "metadata": {},
   "source": [
    "# Part 5"
   ]
  },
  {
   "cell_type": "markdown",
   "id": "48ddd6b2",
   "metadata": {},
   "source": [
    "Create polynomial function `get_polynom`, which based on a set of points (x1,y2), (x2,y2),...,(xn+1,yn+1), will give\n",
    "the coefficient `ci`. \n",
    "\n",
    "Thus, the function accepts a list of tuples with coordinates and returns a set of coefficients c0, c1,...,cn\n",
    "\n",
    "The polynomial function: P(x) = c0 + c1x^1 + c2x^2 + c3x^3 + ... + cnx^n\n",
    "P(x) = y, degree n-1 polynomials have the right length for n points.\n",
    "For n given points we will get n equations, like:\n",
    "c0 + c1x1 c2x1^2 c3x1^3 ... cnx1^n = y1\n",
    ".\n",
    ".\n",
    ".\n",
    "\n",
    "The unswer: 'Av = b'\n",
    "from the coordinats take x value and build matrix A using polynomial function:\n",
    "\n",
    "1 x1 x1^2 x1^3 ... x1^n\n",
    "1 x2 x2^2 x2^3 ... x2^n\n",
    "1 x3 x3^2 x3^3 ... x3^n\n",
    ".\n",
    ".\n",
    ".\n",
    "1 xn xn^2 xn^3 ... xn^n\n",
    "\n",
    "multiply this matrix by vector of coeficient:\n",
    "v = (c0, c1, c2, c3, ..., cn)\n",
    "\n",
    "and get the vector of knovns b:\n",
    "b = (y1, y2, y3, ..., yn)"
   ]
  },
  {
   "cell_type": "code",
   "execution_count": 168,
   "id": "e9df51a8",
   "metadata": {},
   "outputs": [],
   "source": [
    "def get_polynom(coords):\n",
    "    n = len(coords)\n",
    "    x_matrix_list = [] \n",
    "    y_known_list = []\n",
    "    \n",
    "    if n > 1:\n",
    "        for x,y in coords:\n",
    "            # get the vector of knowns \n",
    "            y_known_list.append(y)\n",
    "            # build the matrix from n equations\n",
    "            x_matrix_row_list = []\n",
    "            for i in range(n):\n",
    "                x_matrix_row_list.append(pow(x,i))\n",
    "            x_matrix_list.append(x_matrix_row_list)\n",
    "            \n",
    "        A = np.array(x_matrix_list)   \n",
    "        b = np.array(y_known_list) \n",
    "        print(f'Matrix with knowns: \\n A={A}')\n",
    "        print(f'Vector of y: b={b}')\n",
    "        v = np.linalg.solve(A, b)\n",
    "        print(f'Vector of coefficients v: v={v}')\n",
    "        n = 0\n",
    "        for c in v:\n",
    "            print(f'C{n} = {round(c,2)}')\n",
    "            n += 1 \n",
    "        \n",
    "        print(f\"Check the answer: Av = b is {np.dot(A, v).all() == b.all()}\")\n",
    "        return v\n",
    "    else:\n",
    "        return 'The polynomial degree cannot be less than 1'\n",
    "        "
   ]
  },
  {
   "cell_type": "code",
   "execution_count": 169,
   "id": "e3c757a5",
   "metadata": {},
   "outputs": [
    {
     "name": "stdout",
     "output_type": "stream",
     "text": [
      "Matrix with knowns: \n",
      " A=[[   1   10  100 1000]\n",
      " [   1    0    0    0]\n",
      " [   1    5   25  125]\n",
      " [   1    6   36  216]]\n",
      "Vector of y: b=[  4  10 121 125]\n",
      "Vector of coefficients v: v=[10.         25.91666667  1.165      -0.38166667]\n",
      "C0 = 10.0\n",
      "C1 = 25.92\n",
      "C2 = 1.16\n",
      "C3 = -0.38\n",
      "Check the answer: Av = b is True\n"
     ]
    }
   ],
   "source": [
    "coord_list = [(10,4), (0,10), (5, 121), (6, 125)]\n",
    "\n",
    "coord = get_polynom(coord_list)"
   ]
  },
  {
   "cell_type": "code",
   "execution_count": null,
   "id": "b4e88c70",
   "metadata": {},
   "outputs": [],
   "source": []
  }
 ],
 "metadata": {
  "kernelspec": {
   "display_name": "Python 3 (ipykernel)",
   "language": "python",
   "name": "python3"
  },
  "language_info": {
   "codemirror_mode": {
    "name": "ipython",
    "version": 3
   },
   "file_extension": ".py",
   "mimetype": "text/x-python",
   "name": "python",
   "nbconvert_exporter": "python",
   "pygments_lexer": "ipython3",
   "version": "3.10.2"
  }
 },
 "nbformat": 4,
 "nbformat_minor": 5
}
